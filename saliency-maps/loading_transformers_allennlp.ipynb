{
  "nbformat": 4,
  "nbformat_minor": 0,
  "metadata": {
    "colab": {
      "name": "Untitled7.ipynb",
      "provenance": [],
      "toc_visible": true,
      "authorship_tag": "ABX9TyOFepe/24gN/WHy3dSh29Ef",
      "include_colab_link": true
    },
    "kernelspec": {
      "name": "python3",
      "display_name": "Python 3"
    },
    "language_info": {
      "name": "python"
    },
    "widgets": {
      "application/vnd.jupyter.widget-state+json": {
        "003f88678761453fb296ec3a2fa016bc": {
          "model_module": "@jupyter-widgets/controls",
          "model_name": "HBoxModel",
          "model_module_version": "1.5.0",
          "state": {
            "_dom_classes": [],
            "_model_module": "@jupyter-widgets/controls",
            "_model_module_version": "1.5.0",
            "_model_name": "HBoxModel",
            "_view_count": null,
            "_view_module": "@jupyter-widgets/controls",
            "_view_module_version": "1.5.0",
            "_view_name": "HBoxView",
            "box_style": "",
            "children": [
              "IPY_MODEL_50aeb46920574e629cd6c8417355d377",
              "IPY_MODEL_2cf9b8fd322344598961b9d73d3d057d",
              "IPY_MODEL_4f3b3735598c4ccaac1994d9e0f0b236"
            ],
            "layout": "IPY_MODEL_d98a024757e14509b5e39bfc9f85b908"
          }
        },
        "50aeb46920574e629cd6c8417355d377": {
          "model_module": "@jupyter-widgets/controls",
          "model_name": "HTMLModel",
          "model_module_version": "1.5.0",
          "state": {
            "_dom_classes": [],
            "_model_module": "@jupyter-widgets/controls",
            "_model_module_version": "1.5.0",
            "_model_name": "HTMLModel",
            "_view_count": null,
            "_view_module": "@jupyter-widgets/controls",
            "_view_module_version": "1.5.0",
            "_view_name": "HTMLView",
            "description": "",
            "description_tooltip": null,
            "layout": "IPY_MODEL_4c5018aa286a422993a2011e7bc3b2d6",
            "placeholder": "​",
            "style": "IPY_MODEL_01b8878bd71941e4bc9e917e4ef534da",
            "value": "Downloading: 100%"
          }
        },
        "2cf9b8fd322344598961b9d73d3d057d": {
          "model_module": "@jupyter-widgets/controls",
          "model_name": "FloatProgressModel",
          "model_module_version": "1.5.0",
          "state": {
            "_dom_classes": [],
            "_model_module": "@jupyter-widgets/controls",
            "_model_module_version": "1.5.0",
            "_model_name": "FloatProgressModel",
            "_view_count": null,
            "_view_module": "@jupyter-widgets/controls",
            "_view_module_version": "1.5.0",
            "_view_name": "ProgressView",
            "bar_style": "success",
            "description": "",
            "description_tooltip": null,
            "layout": "IPY_MODEL_ab76e5daa27d402d84d3b51e101ae83a",
            "max": 953,
            "min": 0,
            "orientation": "horizontal",
            "style": "IPY_MODEL_d4f1744f3e714ea7846bef2d7b618284",
            "value": 953
          }
        },
        "4f3b3735598c4ccaac1994d9e0f0b236": {
          "model_module": "@jupyter-widgets/controls",
          "model_name": "HTMLModel",
          "model_module_version": "1.5.0",
          "state": {
            "_dom_classes": [],
            "_model_module": "@jupyter-widgets/controls",
            "_model_module_version": "1.5.0",
            "_model_name": "HTMLModel",
            "_view_count": null,
            "_view_module": "@jupyter-widgets/controls",
            "_view_module_version": "1.5.0",
            "_view_name": "HTMLView",
            "description": "",
            "description_tooltip": null,
            "layout": "IPY_MODEL_508d3f9248874a6ba90a4f1814a6db73",
            "placeholder": "​",
            "style": "IPY_MODEL_0789336786a04b19b277a95f497a3722",
            "value": " 953/953 [00:00&lt;00:00, 18.4kB/s]"
          }
        },
        "d98a024757e14509b5e39bfc9f85b908": {
          "model_module": "@jupyter-widgets/base",
          "model_name": "LayoutModel",
          "model_module_version": "1.2.0",
          "state": {
            "_model_module": "@jupyter-widgets/base",
            "_model_module_version": "1.2.0",
            "_model_name": "LayoutModel",
            "_view_count": null,
            "_view_module": "@jupyter-widgets/base",
            "_view_module_version": "1.2.0",
            "_view_name": "LayoutView",
            "align_content": null,
            "align_items": null,
            "align_self": null,
            "border": null,
            "bottom": null,
            "display": null,
            "flex": null,
            "flex_flow": null,
            "grid_area": null,
            "grid_auto_columns": null,
            "grid_auto_flow": null,
            "grid_auto_rows": null,
            "grid_column": null,
            "grid_gap": null,
            "grid_row": null,
            "grid_template_areas": null,
            "grid_template_columns": null,
            "grid_template_rows": null,
            "height": null,
            "justify_content": null,
            "justify_items": null,
            "left": null,
            "margin": null,
            "max_height": null,
            "max_width": null,
            "min_height": null,
            "min_width": null,
            "object_fit": null,
            "object_position": null,
            "order": null,
            "overflow": null,
            "overflow_x": null,
            "overflow_y": null,
            "padding": null,
            "right": null,
            "top": null,
            "visibility": null,
            "width": null
          }
        },
        "4c5018aa286a422993a2011e7bc3b2d6": {
          "model_module": "@jupyter-widgets/base",
          "model_name": "LayoutModel",
          "model_module_version": "1.2.0",
          "state": {
            "_model_module": "@jupyter-widgets/base",
            "_model_module_version": "1.2.0",
            "_model_name": "LayoutModel",
            "_view_count": null,
            "_view_module": "@jupyter-widgets/base",
            "_view_module_version": "1.2.0",
            "_view_name": "LayoutView",
            "align_content": null,
            "align_items": null,
            "align_self": null,
            "border": null,
            "bottom": null,
            "display": null,
            "flex": null,
            "flex_flow": null,
            "grid_area": null,
            "grid_auto_columns": null,
            "grid_auto_flow": null,
            "grid_auto_rows": null,
            "grid_column": null,
            "grid_gap": null,
            "grid_row": null,
            "grid_template_areas": null,
            "grid_template_columns": null,
            "grid_template_rows": null,
            "height": null,
            "justify_content": null,
            "justify_items": null,
            "left": null,
            "margin": null,
            "max_height": null,
            "max_width": null,
            "min_height": null,
            "min_width": null,
            "object_fit": null,
            "object_position": null,
            "order": null,
            "overflow": null,
            "overflow_x": null,
            "overflow_y": null,
            "padding": null,
            "right": null,
            "top": null,
            "visibility": null,
            "width": null
          }
        },
        "01b8878bd71941e4bc9e917e4ef534da": {
          "model_module": "@jupyter-widgets/controls",
          "model_name": "DescriptionStyleModel",
          "model_module_version": "1.5.0",
          "state": {
            "_model_module": "@jupyter-widgets/controls",
            "_model_module_version": "1.5.0",
            "_model_name": "DescriptionStyleModel",
            "_view_count": null,
            "_view_module": "@jupyter-widgets/base",
            "_view_module_version": "1.2.0",
            "_view_name": "StyleView",
            "description_width": ""
          }
        },
        "ab76e5daa27d402d84d3b51e101ae83a": {
          "model_module": "@jupyter-widgets/base",
          "model_name": "LayoutModel",
          "model_module_version": "1.2.0",
          "state": {
            "_model_module": "@jupyter-widgets/base",
            "_model_module_version": "1.2.0",
            "_model_name": "LayoutModel",
            "_view_count": null,
            "_view_module": "@jupyter-widgets/base",
            "_view_module_version": "1.2.0",
            "_view_name": "LayoutView",
            "align_content": null,
            "align_items": null,
            "align_self": null,
            "border": null,
            "bottom": null,
            "display": null,
            "flex": null,
            "flex_flow": null,
            "grid_area": null,
            "grid_auto_columns": null,
            "grid_auto_flow": null,
            "grid_auto_rows": null,
            "grid_column": null,
            "grid_gap": null,
            "grid_row": null,
            "grid_template_areas": null,
            "grid_template_columns": null,
            "grid_template_rows": null,
            "height": null,
            "justify_content": null,
            "justify_items": null,
            "left": null,
            "margin": null,
            "max_height": null,
            "max_width": null,
            "min_height": null,
            "min_width": null,
            "object_fit": null,
            "object_position": null,
            "order": null,
            "overflow": null,
            "overflow_x": null,
            "overflow_y": null,
            "padding": null,
            "right": null,
            "top": null,
            "visibility": null,
            "width": null
          }
        },
        "d4f1744f3e714ea7846bef2d7b618284": {
          "model_module": "@jupyter-widgets/controls",
          "model_name": "ProgressStyleModel",
          "model_module_version": "1.5.0",
          "state": {
            "_model_module": "@jupyter-widgets/controls",
            "_model_module_version": "1.5.0",
            "_model_name": "ProgressStyleModel",
            "_view_count": null,
            "_view_module": "@jupyter-widgets/base",
            "_view_module_version": "1.2.0",
            "_view_name": "StyleView",
            "bar_color": null,
            "description_width": ""
          }
        },
        "508d3f9248874a6ba90a4f1814a6db73": {
          "model_module": "@jupyter-widgets/base",
          "model_name": "LayoutModel",
          "model_module_version": "1.2.0",
          "state": {
            "_model_module": "@jupyter-widgets/base",
            "_model_module_version": "1.2.0",
            "_model_name": "LayoutModel",
            "_view_count": null,
            "_view_module": "@jupyter-widgets/base",
            "_view_module_version": "1.2.0",
            "_view_name": "LayoutView",
            "align_content": null,
            "align_items": null,
            "align_self": null,
            "border": null,
            "bottom": null,
            "display": null,
            "flex": null,
            "flex_flow": null,
            "grid_area": null,
            "grid_auto_columns": null,
            "grid_auto_flow": null,
            "grid_auto_rows": null,
            "grid_column": null,
            "grid_gap": null,
            "grid_row": null,
            "grid_template_areas": null,
            "grid_template_columns": null,
            "grid_template_rows": null,
            "height": null,
            "justify_content": null,
            "justify_items": null,
            "left": null,
            "margin": null,
            "max_height": null,
            "max_width": null,
            "min_height": null,
            "min_width": null,
            "object_fit": null,
            "object_position": null,
            "order": null,
            "overflow": null,
            "overflow_x": null,
            "overflow_y": null,
            "padding": null,
            "right": null,
            "top": null,
            "visibility": null,
            "width": null
          }
        },
        "0789336786a04b19b277a95f497a3722": {
          "model_module": "@jupyter-widgets/controls",
          "model_name": "DescriptionStyleModel",
          "model_module_version": "1.5.0",
          "state": {
            "_model_module": "@jupyter-widgets/controls",
            "_model_module_version": "1.5.0",
            "_model_name": "DescriptionStyleModel",
            "_view_count": null,
            "_view_module": "@jupyter-widgets/base",
            "_view_module_version": "1.2.0",
            "_view_name": "StyleView",
            "description_width": ""
          }
        },
        "b1769e2357a8449fbbf0b49f3088c3e4": {
          "model_module": "@jupyter-widgets/controls",
          "model_name": "HBoxModel",
          "model_module_version": "1.5.0",
          "state": {
            "_dom_classes": [],
            "_model_module": "@jupyter-widgets/controls",
            "_model_module_version": "1.5.0",
            "_model_name": "HBoxModel",
            "_view_count": null,
            "_view_module": "@jupyter-widgets/controls",
            "_view_module_version": "1.5.0",
            "_view_name": "HBoxView",
            "box_style": "",
            "children": [
              "IPY_MODEL_a27c4eca4dd5461e98a4b8228c4913ee",
              "IPY_MODEL_6b32fca55f674ed8918e68872ad3b36f",
              "IPY_MODEL_2c805a6860264d1babb027029c0c8fa6"
            ],
            "layout": "IPY_MODEL_fad46b699c7745a69978a89ef533e648"
          }
        },
        "a27c4eca4dd5461e98a4b8228c4913ee": {
          "model_module": "@jupyter-widgets/controls",
          "model_name": "HTMLModel",
          "model_module_version": "1.5.0",
          "state": {
            "_dom_classes": [],
            "_model_module": "@jupyter-widgets/controls",
            "_model_module_version": "1.5.0",
            "_model_name": "HTMLModel",
            "_view_count": null,
            "_view_module": "@jupyter-widgets/controls",
            "_view_module_version": "1.5.0",
            "_view_name": "HTMLView",
            "description": "",
            "description_tooltip": null,
            "layout": "IPY_MODEL_d51f21a608e34b56becbacbae66ae4ca",
            "placeholder": "​",
            "style": "IPY_MODEL_7ccc29cb7e8a43e4bc314c6315d1c89b",
            "value": "Downloading: 100%"
          }
        },
        "6b32fca55f674ed8918e68872ad3b36f": {
          "model_module": "@jupyter-widgets/controls",
          "model_name": "FloatProgressModel",
          "model_module_version": "1.5.0",
          "state": {
            "_dom_classes": [],
            "_model_module": "@jupyter-widgets/controls",
            "_model_module_version": "1.5.0",
            "_model_name": "FloatProgressModel",
            "_view_count": null,
            "_view_module": "@jupyter-widgets/controls",
            "_view_module_version": "1.5.0",
            "_view_name": "ProgressView",
            "bar_style": "success",
            "description": "",
            "description_tooltip": null,
            "layout": "IPY_MODEL_a0437e4680c44a91985b7facd38ef5ca",
            "max": 39,
            "min": 0,
            "orientation": "horizontal",
            "style": "IPY_MODEL_fba4a3bfbd7b4951a6f0af409a4c71ab",
            "value": 39
          }
        },
        "2c805a6860264d1babb027029c0c8fa6": {
          "model_module": "@jupyter-widgets/controls",
          "model_name": "HTMLModel",
          "model_module_version": "1.5.0",
          "state": {
            "_dom_classes": [],
            "_model_module": "@jupyter-widgets/controls",
            "_model_module_version": "1.5.0",
            "_model_name": "HTMLModel",
            "_view_count": null,
            "_view_module": "@jupyter-widgets/controls",
            "_view_module_version": "1.5.0",
            "_view_name": "HTMLView",
            "description": "",
            "description_tooltip": null,
            "layout": "IPY_MODEL_1f173e6102ab404187b6f754a0ec1af0",
            "placeholder": "​",
            "style": "IPY_MODEL_4f068a84a2d449fd91b27b69ed9724a9",
            "value": " 39.0/39.0 [00:00&lt;00:00, 1.00kB/s]"
          }
        },
        "fad46b699c7745a69978a89ef533e648": {
          "model_module": "@jupyter-widgets/base",
          "model_name": "LayoutModel",
          "model_module_version": "1.2.0",
          "state": {
            "_model_module": "@jupyter-widgets/base",
            "_model_module_version": "1.2.0",
            "_model_name": "LayoutModel",
            "_view_count": null,
            "_view_module": "@jupyter-widgets/base",
            "_view_module_version": "1.2.0",
            "_view_name": "LayoutView",
            "align_content": null,
            "align_items": null,
            "align_self": null,
            "border": null,
            "bottom": null,
            "display": null,
            "flex": null,
            "flex_flow": null,
            "grid_area": null,
            "grid_auto_columns": null,
            "grid_auto_flow": null,
            "grid_auto_rows": null,
            "grid_column": null,
            "grid_gap": null,
            "grid_row": null,
            "grid_template_areas": null,
            "grid_template_columns": null,
            "grid_template_rows": null,
            "height": null,
            "justify_content": null,
            "justify_items": null,
            "left": null,
            "margin": null,
            "max_height": null,
            "max_width": null,
            "min_height": null,
            "min_width": null,
            "object_fit": null,
            "object_position": null,
            "order": null,
            "overflow": null,
            "overflow_x": null,
            "overflow_y": null,
            "padding": null,
            "right": null,
            "top": null,
            "visibility": null,
            "width": null
          }
        },
        "d51f21a608e34b56becbacbae66ae4ca": {
          "model_module": "@jupyter-widgets/base",
          "model_name": "LayoutModel",
          "model_module_version": "1.2.0",
          "state": {
            "_model_module": "@jupyter-widgets/base",
            "_model_module_version": "1.2.0",
            "_model_name": "LayoutModel",
            "_view_count": null,
            "_view_module": "@jupyter-widgets/base",
            "_view_module_version": "1.2.0",
            "_view_name": "LayoutView",
            "align_content": null,
            "align_items": null,
            "align_self": null,
            "border": null,
            "bottom": null,
            "display": null,
            "flex": null,
            "flex_flow": null,
            "grid_area": null,
            "grid_auto_columns": null,
            "grid_auto_flow": null,
            "grid_auto_rows": null,
            "grid_column": null,
            "grid_gap": null,
            "grid_row": null,
            "grid_template_areas": null,
            "grid_template_columns": null,
            "grid_template_rows": null,
            "height": null,
            "justify_content": null,
            "justify_items": null,
            "left": null,
            "margin": null,
            "max_height": null,
            "max_width": null,
            "min_height": null,
            "min_width": null,
            "object_fit": null,
            "object_position": null,
            "order": null,
            "overflow": null,
            "overflow_x": null,
            "overflow_y": null,
            "padding": null,
            "right": null,
            "top": null,
            "visibility": null,
            "width": null
          }
        },
        "7ccc29cb7e8a43e4bc314c6315d1c89b": {
          "model_module": "@jupyter-widgets/controls",
          "model_name": "DescriptionStyleModel",
          "model_module_version": "1.5.0",
          "state": {
            "_model_module": "@jupyter-widgets/controls",
            "_model_module_version": "1.5.0",
            "_model_name": "DescriptionStyleModel",
            "_view_count": null,
            "_view_module": "@jupyter-widgets/base",
            "_view_module_version": "1.2.0",
            "_view_name": "StyleView",
            "description_width": ""
          }
        },
        "a0437e4680c44a91985b7facd38ef5ca": {
          "model_module": "@jupyter-widgets/base",
          "model_name": "LayoutModel",
          "model_module_version": "1.2.0",
          "state": {
            "_model_module": "@jupyter-widgets/base",
            "_model_module_version": "1.2.0",
            "_model_name": "LayoutModel",
            "_view_count": null,
            "_view_module": "@jupyter-widgets/base",
            "_view_module_version": "1.2.0",
            "_view_name": "LayoutView",
            "align_content": null,
            "align_items": null,
            "align_self": null,
            "border": null,
            "bottom": null,
            "display": null,
            "flex": null,
            "flex_flow": null,
            "grid_area": null,
            "grid_auto_columns": null,
            "grid_auto_flow": null,
            "grid_auto_rows": null,
            "grid_column": null,
            "grid_gap": null,
            "grid_row": null,
            "grid_template_areas": null,
            "grid_template_columns": null,
            "grid_template_rows": null,
            "height": null,
            "justify_content": null,
            "justify_items": null,
            "left": null,
            "margin": null,
            "max_height": null,
            "max_width": null,
            "min_height": null,
            "min_width": null,
            "object_fit": null,
            "object_position": null,
            "order": null,
            "overflow": null,
            "overflow_x": null,
            "overflow_y": null,
            "padding": null,
            "right": null,
            "top": null,
            "visibility": null,
            "width": null
          }
        },
        "fba4a3bfbd7b4951a6f0af409a4c71ab": {
          "model_module": "@jupyter-widgets/controls",
          "model_name": "ProgressStyleModel",
          "model_module_version": "1.5.0",
          "state": {
            "_model_module": "@jupyter-widgets/controls",
            "_model_module_version": "1.5.0",
            "_model_name": "ProgressStyleModel",
            "_view_count": null,
            "_view_module": "@jupyter-widgets/base",
            "_view_module_version": "1.2.0",
            "_view_name": "StyleView",
            "bar_color": null,
            "description_width": ""
          }
        },
        "1f173e6102ab404187b6f754a0ec1af0": {
          "model_module": "@jupyter-widgets/base",
          "model_name": "LayoutModel",
          "model_module_version": "1.2.0",
          "state": {
            "_model_module": "@jupyter-widgets/base",
            "_model_module_version": "1.2.0",
            "_model_name": "LayoutModel",
            "_view_count": null,
            "_view_module": "@jupyter-widgets/base",
            "_view_module_version": "1.2.0",
            "_view_name": "LayoutView",
            "align_content": null,
            "align_items": null,
            "align_self": null,
            "border": null,
            "bottom": null,
            "display": null,
            "flex": null,
            "flex_flow": null,
            "grid_area": null,
            "grid_auto_columns": null,
            "grid_auto_flow": null,
            "grid_auto_rows": null,
            "grid_column": null,
            "grid_gap": null,
            "grid_row": null,
            "grid_template_areas": null,
            "grid_template_columns": null,
            "grid_template_rows": null,
            "height": null,
            "justify_content": null,
            "justify_items": null,
            "left": null,
            "margin": null,
            "max_height": null,
            "max_width": null,
            "min_height": null,
            "min_width": null,
            "object_fit": null,
            "object_position": null,
            "order": null,
            "overflow": null,
            "overflow_x": null,
            "overflow_y": null,
            "padding": null,
            "right": null,
            "top": null,
            "visibility": null,
            "width": null
          }
        },
        "4f068a84a2d449fd91b27b69ed9724a9": {
          "model_module": "@jupyter-widgets/controls",
          "model_name": "DescriptionStyleModel",
          "model_module_version": "1.5.0",
          "state": {
            "_model_module": "@jupyter-widgets/controls",
            "_model_module_version": "1.5.0",
            "_model_name": "DescriptionStyleModel",
            "_view_count": null,
            "_view_module": "@jupyter-widgets/base",
            "_view_module_version": "1.2.0",
            "_view_name": "StyleView",
            "description_width": ""
          }
        },
        "6e3fe1f22ae042fd96b402d39526b117": {
          "model_module": "@jupyter-widgets/controls",
          "model_name": "HBoxModel",
          "model_module_version": "1.5.0",
          "state": {
            "_dom_classes": [],
            "_model_module": "@jupyter-widgets/controls",
            "_model_module_version": "1.5.0",
            "_model_name": "HBoxModel",
            "_view_count": null,
            "_view_module": "@jupyter-widgets/controls",
            "_view_module_version": "1.5.0",
            "_view_name": "HBoxView",
            "box_style": "",
            "children": [
              "IPY_MODEL_841be5a512ef4f9293a467d5ca7af447",
              "IPY_MODEL_36f8a2b8cf3a499caff0e5033f482b82",
              "IPY_MODEL_8e5a2ccaf1a549108a84ac6867597782"
            ],
            "layout": "IPY_MODEL_1d7ad3758d224beaa9f3710cd9d717e3"
          }
        },
        "841be5a512ef4f9293a467d5ca7af447": {
          "model_module": "@jupyter-widgets/controls",
          "model_name": "HTMLModel",
          "model_module_version": "1.5.0",
          "state": {
            "_dom_classes": [],
            "_model_module": "@jupyter-widgets/controls",
            "_model_module_version": "1.5.0",
            "_model_name": "HTMLModel",
            "_view_count": null,
            "_view_module": "@jupyter-widgets/controls",
            "_view_module_version": "1.5.0",
            "_view_name": "HTMLView",
            "description": "",
            "description_tooltip": null,
            "layout": "IPY_MODEL_c372d002b7444be5987f2296def2caa8",
            "placeholder": "​",
            "style": "IPY_MODEL_08c3efb53c3a497d8cc2e2c0d5578bb8",
            "value": "Downloading: 100%"
          }
        },
        "36f8a2b8cf3a499caff0e5033f482b82": {
          "model_module": "@jupyter-widgets/controls",
          "model_name": "FloatProgressModel",
          "model_module_version": "1.5.0",
          "state": {
            "_dom_classes": [],
            "_model_module": "@jupyter-widgets/controls",
            "_model_module_version": "1.5.0",
            "_model_name": "FloatProgressModel",
            "_view_count": null,
            "_view_module": "@jupyter-widgets/controls",
            "_view_module_version": "1.5.0",
            "_view_name": "ProgressView",
            "bar_style": "success",
            "description": "",
            "description_tooltip": null,
            "layout": "IPY_MODEL_bfcb83ba52a24ec68ea458315b1ed143",
            "max": 871891,
            "min": 0,
            "orientation": "horizontal",
            "style": "IPY_MODEL_79042a542cca43ebb0afc9e3a64ddf87",
            "value": 871891
          }
        },
        "8e5a2ccaf1a549108a84ac6867597782": {
          "model_module": "@jupyter-widgets/controls",
          "model_name": "HTMLModel",
          "model_module_version": "1.5.0",
          "state": {
            "_dom_classes": [],
            "_model_module": "@jupyter-widgets/controls",
            "_model_module_version": "1.5.0",
            "_model_name": "HTMLModel",
            "_view_count": null,
            "_view_module": "@jupyter-widgets/controls",
            "_view_module_version": "1.5.0",
            "_view_name": "HTMLView",
            "description": "",
            "description_tooltip": null,
            "layout": "IPY_MODEL_549134fb31bf4f138cda41b785869809",
            "placeholder": "​",
            "style": "IPY_MODEL_1f55d4dab3be4bed987b7db8832fd57f",
            "value": " 851k/851k [00:00&lt;00:00, 1.87MB/s]"
          }
        },
        "1d7ad3758d224beaa9f3710cd9d717e3": {
          "model_module": "@jupyter-widgets/base",
          "model_name": "LayoutModel",
          "model_module_version": "1.2.0",
          "state": {
            "_model_module": "@jupyter-widgets/base",
            "_model_module_version": "1.2.0",
            "_model_name": "LayoutModel",
            "_view_count": null,
            "_view_module": "@jupyter-widgets/base",
            "_view_module_version": "1.2.0",
            "_view_name": "LayoutView",
            "align_content": null,
            "align_items": null,
            "align_self": null,
            "border": null,
            "bottom": null,
            "display": null,
            "flex": null,
            "flex_flow": null,
            "grid_area": null,
            "grid_auto_columns": null,
            "grid_auto_flow": null,
            "grid_auto_rows": null,
            "grid_column": null,
            "grid_gap": null,
            "grid_row": null,
            "grid_template_areas": null,
            "grid_template_columns": null,
            "grid_template_rows": null,
            "height": null,
            "justify_content": null,
            "justify_items": null,
            "left": null,
            "margin": null,
            "max_height": null,
            "max_width": null,
            "min_height": null,
            "min_width": null,
            "object_fit": null,
            "object_position": null,
            "order": null,
            "overflow": null,
            "overflow_x": null,
            "overflow_y": null,
            "padding": null,
            "right": null,
            "top": null,
            "visibility": null,
            "width": null
          }
        },
        "c372d002b7444be5987f2296def2caa8": {
          "model_module": "@jupyter-widgets/base",
          "model_name": "LayoutModel",
          "model_module_version": "1.2.0",
          "state": {
            "_model_module": "@jupyter-widgets/base",
            "_model_module_version": "1.2.0",
            "_model_name": "LayoutModel",
            "_view_count": null,
            "_view_module": "@jupyter-widgets/base",
            "_view_module_version": "1.2.0",
            "_view_name": "LayoutView",
            "align_content": null,
            "align_items": null,
            "align_self": null,
            "border": null,
            "bottom": null,
            "display": null,
            "flex": null,
            "flex_flow": null,
            "grid_area": null,
            "grid_auto_columns": null,
            "grid_auto_flow": null,
            "grid_auto_rows": null,
            "grid_column": null,
            "grid_gap": null,
            "grid_row": null,
            "grid_template_areas": null,
            "grid_template_columns": null,
            "grid_template_rows": null,
            "height": null,
            "justify_content": null,
            "justify_items": null,
            "left": null,
            "margin": null,
            "max_height": null,
            "max_width": null,
            "min_height": null,
            "min_width": null,
            "object_fit": null,
            "object_position": null,
            "order": null,
            "overflow": null,
            "overflow_x": null,
            "overflow_y": null,
            "padding": null,
            "right": null,
            "top": null,
            "visibility": null,
            "width": null
          }
        },
        "08c3efb53c3a497d8cc2e2c0d5578bb8": {
          "model_module": "@jupyter-widgets/controls",
          "model_name": "DescriptionStyleModel",
          "model_module_version": "1.5.0",
          "state": {
            "_model_module": "@jupyter-widgets/controls",
            "_model_module_version": "1.5.0",
            "_model_name": "DescriptionStyleModel",
            "_view_count": null,
            "_view_module": "@jupyter-widgets/base",
            "_view_module_version": "1.2.0",
            "_view_name": "StyleView",
            "description_width": ""
          }
        },
        "bfcb83ba52a24ec68ea458315b1ed143": {
          "model_module": "@jupyter-widgets/base",
          "model_name": "LayoutModel",
          "model_module_version": "1.2.0",
          "state": {
            "_model_module": "@jupyter-widgets/base",
            "_model_module_version": "1.2.0",
            "_model_name": "LayoutModel",
            "_view_count": null,
            "_view_module": "@jupyter-widgets/base",
            "_view_module_version": "1.2.0",
            "_view_name": "LayoutView",
            "align_content": null,
            "align_items": null,
            "align_self": null,
            "border": null,
            "bottom": null,
            "display": null,
            "flex": null,
            "flex_flow": null,
            "grid_area": null,
            "grid_auto_columns": null,
            "grid_auto_flow": null,
            "grid_auto_rows": null,
            "grid_column": null,
            "grid_gap": null,
            "grid_row": null,
            "grid_template_areas": null,
            "grid_template_columns": null,
            "grid_template_rows": null,
            "height": null,
            "justify_content": null,
            "justify_items": null,
            "left": null,
            "margin": null,
            "max_height": null,
            "max_width": null,
            "min_height": null,
            "min_width": null,
            "object_fit": null,
            "object_position": null,
            "order": null,
            "overflow": null,
            "overflow_x": null,
            "overflow_y": null,
            "padding": null,
            "right": null,
            "top": null,
            "visibility": null,
            "width": null
          }
        },
        "79042a542cca43ebb0afc9e3a64ddf87": {
          "model_module": "@jupyter-widgets/controls",
          "model_name": "ProgressStyleModel",
          "model_module_version": "1.5.0",
          "state": {
            "_model_module": "@jupyter-widgets/controls",
            "_model_module_version": "1.5.0",
            "_model_name": "ProgressStyleModel",
            "_view_count": null,
            "_view_module": "@jupyter-widgets/base",
            "_view_module_version": "1.2.0",
            "_view_name": "StyleView",
            "bar_color": null,
            "description_width": ""
          }
        },
        "549134fb31bf4f138cda41b785869809": {
          "model_module": "@jupyter-widgets/base",
          "model_name": "LayoutModel",
          "model_module_version": "1.2.0",
          "state": {
            "_model_module": "@jupyter-widgets/base",
            "_model_module_version": "1.2.0",
            "_model_name": "LayoutModel",
            "_view_count": null,
            "_view_module": "@jupyter-widgets/base",
            "_view_module_version": "1.2.0",
            "_view_name": "LayoutView",
            "align_content": null,
            "align_items": null,
            "align_self": null,
            "border": null,
            "bottom": null,
            "display": null,
            "flex": null,
            "flex_flow": null,
            "grid_area": null,
            "grid_auto_columns": null,
            "grid_auto_flow": null,
            "grid_auto_rows": null,
            "grid_column": null,
            "grid_gap": null,
            "grid_row": null,
            "grid_template_areas": null,
            "grid_template_columns": null,
            "grid_template_rows": null,
            "height": null,
            "justify_content": null,
            "justify_items": null,
            "left": null,
            "margin": null,
            "max_height": null,
            "max_width": null,
            "min_height": null,
            "min_width": null,
            "object_fit": null,
            "object_position": null,
            "order": null,
            "overflow": null,
            "overflow_x": null,
            "overflow_y": null,
            "padding": null,
            "right": null,
            "top": null,
            "visibility": null,
            "width": null
          }
        },
        "1f55d4dab3be4bed987b7db8832fd57f": {
          "model_module": "@jupyter-widgets/controls",
          "model_name": "DescriptionStyleModel",
          "model_module_version": "1.5.0",
          "state": {
            "_model_module": "@jupyter-widgets/controls",
            "_model_module_version": "1.5.0",
            "_model_name": "DescriptionStyleModel",
            "_view_count": null,
            "_view_module": "@jupyter-widgets/base",
            "_view_module_version": "1.2.0",
            "_view_name": "StyleView",
            "description_width": ""
          }
        },
        "df71a06e209448648d99aabb564d0870": {
          "model_module": "@jupyter-widgets/controls",
          "model_name": "HBoxModel",
          "model_module_version": "1.5.0",
          "state": {
            "_dom_classes": [],
            "_model_module": "@jupyter-widgets/controls",
            "_model_module_version": "1.5.0",
            "_model_name": "HBoxModel",
            "_view_count": null,
            "_view_module": "@jupyter-widgets/controls",
            "_view_module_version": "1.5.0",
            "_view_name": "HBoxView",
            "box_style": "",
            "children": [
              "IPY_MODEL_094421b563344ea58fcedc6923539d6a",
              "IPY_MODEL_c179868ffb2c4549a75ee46d71618850",
              "IPY_MODEL_21f7803053554077a20895681879736c"
            ],
            "layout": "IPY_MODEL_18f3125c276f47baa6acfd08843c4b60"
          }
        },
        "094421b563344ea58fcedc6923539d6a": {
          "model_module": "@jupyter-widgets/controls",
          "model_name": "HTMLModel",
          "model_module_version": "1.5.0",
          "state": {
            "_dom_classes": [],
            "_model_module": "@jupyter-widgets/controls",
            "_model_module_version": "1.5.0",
            "_model_name": "HTMLModel",
            "_view_count": null,
            "_view_module": "@jupyter-widgets/controls",
            "_view_module_version": "1.5.0",
            "_view_name": "HTMLView",
            "description": "",
            "description_tooltip": null,
            "layout": "IPY_MODEL_905de7cdf8ab44ef93b2b446e84192d7",
            "placeholder": "​",
            "style": "IPY_MODEL_f9bc0871cb264fc792d74e3ca04bb736",
            "value": "Downloading: 100%"
          }
        },
        "c179868ffb2c4549a75ee46d71618850": {
          "model_module": "@jupyter-widgets/controls",
          "model_name": "FloatProgressModel",
          "model_module_version": "1.5.0",
          "state": {
            "_dom_classes": [],
            "_model_module": "@jupyter-widgets/controls",
            "_model_module_version": "1.5.0",
            "_model_name": "FloatProgressModel",
            "_view_count": null,
            "_view_module": "@jupyter-widgets/controls",
            "_view_module_version": "1.5.0",
            "_view_name": "ProgressView",
            "bar_style": "success",
            "description": "",
            "description_tooltip": null,
            "layout": "IPY_MODEL_645d70b46faa493b91c0f67592de85fe",
            "max": 112,
            "min": 0,
            "orientation": "horizontal",
            "style": "IPY_MODEL_4cdfff865717494daf2efbb41b3e7746",
            "value": 112
          }
        },
        "21f7803053554077a20895681879736c": {
          "model_module": "@jupyter-widgets/controls",
          "model_name": "HTMLModel",
          "model_module_version": "1.5.0",
          "state": {
            "_dom_classes": [],
            "_model_module": "@jupyter-widgets/controls",
            "_model_module_version": "1.5.0",
            "_model_name": "HTMLModel",
            "_view_count": null,
            "_view_module": "@jupyter-widgets/controls",
            "_view_module_version": "1.5.0",
            "_view_name": "HTMLView",
            "description": "",
            "description_tooltip": null,
            "layout": "IPY_MODEL_24ac77e2167146c09292e1e7d5d27353",
            "placeholder": "​",
            "style": "IPY_MODEL_6cd6b124bdb2434cb6eb464d76f08214",
            "value": " 112/112 [00:00&lt;00:00, 1.59kB/s]"
          }
        },
        "18f3125c276f47baa6acfd08843c4b60": {
          "model_module": "@jupyter-widgets/base",
          "model_name": "LayoutModel",
          "model_module_version": "1.2.0",
          "state": {
            "_model_module": "@jupyter-widgets/base",
            "_model_module_version": "1.2.0",
            "_model_name": "LayoutModel",
            "_view_count": null,
            "_view_module": "@jupyter-widgets/base",
            "_view_module_version": "1.2.0",
            "_view_name": "LayoutView",
            "align_content": null,
            "align_items": null,
            "align_self": null,
            "border": null,
            "bottom": null,
            "display": null,
            "flex": null,
            "flex_flow": null,
            "grid_area": null,
            "grid_auto_columns": null,
            "grid_auto_flow": null,
            "grid_auto_rows": null,
            "grid_column": null,
            "grid_gap": null,
            "grid_row": null,
            "grid_template_areas": null,
            "grid_template_columns": null,
            "grid_template_rows": null,
            "height": null,
            "justify_content": null,
            "justify_items": null,
            "left": null,
            "margin": null,
            "max_height": null,
            "max_width": null,
            "min_height": null,
            "min_width": null,
            "object_fit": null,
            "object_position": null,
            "order": null,
            "overflow": null,
            "overflow_x": null,
            "overflow_y": null,
            "padding": null,
            "right": null,
            "top": null,
            "visibility": null,
            "width": null
          }
        },
        "905de7cdf8ab44ef93b2b446e84192d7": {
          "model_module": "@jupyter-widgets/base",
          "model_name": "LayoutModel",
          "model_module_version": "1.2.0",
          "state": {
            "_model_module": "@jupyter-widgets/base",
            "_model_module_version": "1.2.0",
            "_model_name": "LayoutModel",
            "_view_count": null,
            "_view_module": "@jupyter-widgets/base",
            "_view_module_version": "1.2.0",
            "_view_name": "LayoutView",
            "align_content": null,
            "align_items": null,
            "align_self": null,
            "border": null,
            "bottom": null,
            "display": null,
            "flex": null,
            "flex_flow": null,
            "grid_area": null,
            "grid_auto_columns": null,
            "grid_auto_flow": null,
            "grid_auto_rows": null,
            "grid_column": null,
            "grid_gap": null,
            "grid_row": null,
            "grid_template_areas": null,
            "grid_template_columns": null,
            "grid_template_rows": null,
            "height": null,
            "justify_content": null,
            "justify_items": null,
            "left": null,
            "margin": null,
            "max_height": null,
            "max_width": null,
            "min_height": null,
            "min_width": null,
            "object_fit": null,
            "object_position": null,
            "order": null,
            "overflow": null,
            "overflow_x": null,
            "overflow_y": null,
            "padding": null,
            "right": null,
            "top": null,
            "visibility": null,
            "width": null
          }
        },
        "f9bc0871cb264fc792d74e3ca04bb736": {
          "model_module": "@jupyter-widgets/controls",
          "model_name": "DescriptionStyleModel",
          "model_module_version": "1.5.0",
          "state": {
            "_model_module": "@jupyter-widgets/controls",
            "_model_module_version": "1.5.0",
            "_model_name": "DescriptionStyleModel",
            "_view_count": null,
            "_view_module": "@jupyter-widgets/base",
            "_view_module_version": "1.2.0",
            "_view_name": "StyleView",
            "description_width": ""
          }
        },
        "645d70b46faa493b91c0f67592de85fe": {
          "model_module": "@jupyter-widgets/base",
          "model_name": "LayoutModel",
          "model_module_version": "1.2.0",
          "state": {
            "_model_module": "@jupyter-widgets/base",
            "_model_module_version": "1.2.0",
            "_model_name": "LayoutModel",
            "_view_count": null,
            "_view_module": "@jupyter-widgets/base",
            "_view_module_version": "1.2.0",
            "_view_name": "LayoutView",
            "align_content": null,
            "align_items": null,
            "align_self": null,
            "border": null,
            "bottom": null,
            "display": null,
            "flex": null,
            "flex_flow": null,
            "grid_area": null,
            "grid_auto_columns": null,
            "grid_auto_flow": null,
            "grid_auto_rows": null,
            "grid_column": null,
            "grid_gap": null,
            "grid_row": null,
            "grid_template_areas": null,
            "grid_template_columns": null,
            "grid_template_rows": null,
            "height": null,
            "justify_content": null,
            "justify_items": null,
            "left": null,
            "margin": null,
            "max_height": null,
            "max_width": null,
            "min_height": null,
            "min_width": null,
            "object_fit": null,
            "object_position": null,
            "order": null,
            "overflow": null,
            "overflow_x": null,
            "overflow_y": null,
            "padding": null,
            "right": null,
            "top": null,
            "visibility": null,
            "width": null
          }
        },
        "4cdfff865717494daf2efbb41b3e7746": {
          "model_module": "@jupyter-widgets/controls",
          "model_name": "ProgressStyleModel",
          "model_module_version": "1.5.0",
          "state": {
            "_model_module": "@jupyter-widgets/controls",
            "_model_module_version": "1.5.0",
            "_model_name": "ProgressStyleModel",
            "_view_count": null,
            "_view_module": "@jupyter-widgets/base",
            "_view_module_version": "1.2.0",
            "_view_name": "StyleView",
            "bar_color": null,
            "description_width": ""
          }
        },
        "24ac77e2167146c09292e1e7d5d27353": {
          "model_module": "@jupyter-widgets/base",
          "model_name": "LayoutModel",
          "model_module_version": "1.2.0",
          "state": {
            "_model_module": "@jupyter-widgets/base",
            "_model_module_version": "1.2.0",
            "_model_name": "LayoutModel",
            "_view_count": null,
            "_view_module": "@jupyter-widgets/base",
            "_view_module_version": "1.2.0",
            "_view_name": "LayoutView",
            "align_content": null,
            "align_items": null,
            "align_self": null,
            "border": null,
            "bottom": null,
            "display": null,
            "flex": null,
            "flex_flow": null,
            "grid_area": null,
            "grid_auto_columns": null,
            "grid_auto_flow": null,
            "grid_auto_rows": null,
            "grid_column": null,
            "grid_gap": null,
            "grid_row": null,
            "grid_template_areas": null,
            "grid_template_columns": null,
            "grid_template_rows": null,
            "height": null,
            "justify_content": null,
            "justify_items": null,
            "left": null,
            "margin": null,
            "max_height": null,
            "max_width": null,
            "min_height": null,
            "min_width": null,
            "object_fit": null,
            "object_position": null,
            "order": null,
            "overflow": null,
            "overflow_x": null,
            "overflow_y": null,
            "padding": null,
            "right": null,
            "top": null,
            "visibility": null,
            "width": null
          }
        },
        "6cd6b124bdb2434cb6eb464d76f08214": {
          "model_module": "@jupyter-widgets/controls",
          "model_name": "DescriptionStyleModel",
          "model_module_version": "1.5.0",
          "state": {
            "_model_module": "@jupyter-widgets/controls",
            "_model_module_version": "1.5.0",
            "_model_name": "DescriptionStyleModel",
            "_view_count": null,
            "_view_module": "@jupyter-widgets/base",
            "_view_module_version": "1.2.0",
            "_view_name": "StyleView",
            "description_width": ""
          }
        },
        "4366cc9f705c4c188a4dedca2dfd50eb": {
          "model_module": "@jupyter-widgets/controls",
          "model_name": "HBoxModel",
          "model_module_version": "1.5.0",
          "state": {
            "_dom_classes": [],
            "_model_module": "@jupyter-widgets/controls",
            "_model_module_version": "1.5.0",
            "_model_name": "HBoxModel",
            "_view_count": null,
            "_view_module": "@jupyter-widgets/controls",
            "_view_module_version": "1.5.0",
            "_view_name": "HBoxView",
            "box_style": "",
            "children": [
              "IPY_MODEL_fe0c2db7b5174d3daaae3c004383e97b",
              "IPY_MODEL_88b61580da204faa80ed59a7f7a4e0f6",
              "IPY_MODEL_d49ed39d1a144f50b4fcef3f98d34b3b"
            ],
            "layout": "IPY_MODEL_25c3d5eb60a54846a8f3648734378713"
          }
        },
        "fe0c2db7b5174d3daaae3c004383e97b": {
          "model_module": "@jupyter-widgets/controls",
          "model_name": "HTMLModel",
          "model_module_version": "1.5.0",
          "state": {
            "_dom_classes": [],
            "_model_module": "@jupyter-widgets/controls",
            "_model_module_version": "1.5.0",
            "_model_name": "HTMLModel",
            "_view_count": null,
            "_view_module": "@jupyter-widgets/controls",
            "_view_module_version": "1.5.0",
            "_view_name": "HTMLView",
            "description": "",
            "description_tooltip": null,
            "layout": "IPY_MODEL_4338e78591454970b17b5f1b0d51d8e6",
            "placeholder": "​",
            "style": "IPY_MODEL_2364047d09214ee38dbf13cea86c211d",
            "value": "Downloading: 100%"
          }
        },
        "88b61580da204faa80ed59a7f7a4e0f6": {
          "model_module": "@jupyter-widgets/controls",
          "model_name": "FloatProgressModel",
          "model_module_version": "1.5.0",
          "state": {
            "_dom_classes": [],
            "_model_module": "@jupyter-widgets/controls",
            "_model_module_version": "1.5.0",
            "_model_name": "FloatProgressModel",
            "_view_count": null,
            "_view_module": "@jupyter-widgets/controls",
            "_view_module_version": "1.5.0",
            "_view_name": "ProgressView",
            "bar_style": "success",
            "description": "",
            "description_tooltip": null,
            "layout": "IPY_MODEL_6b3526ebf6ad41009e97b90530555432",
            "max": 669491321,
            "min": 0,
            "orientation": "horizontal",
            "style": "IPY_MODEL_759a41f6dbb24a8c98012475893ab912",
            "value": 669491321
          }
        },
        "d49ed39d1a144f50b4fcef3f98d34b3b": {
          "model_module": "@jupyter-widgets/controls",
          "model_name": "HTMLModel",
          "model_module_version": "1.5.0",
          "state": {
            "_dom_classes": [],
            "_model_module": "@jupyter-widgets/controls",
            "_model_module_version": "1.5.0",
            "_model_name": "HTMLModel",
            "_view_count": null,
            "_view_module": "@jupyter-widgets/controls",
            "_view_module_version": "1.5.0",
            "_view_name": "HTMLView",
            "description": "",
            "description_tooltip": null,
            "layout": "IPY_MODEL_207c5112fdab4b9085ea884c10e97d59",
            "placeholder": "​",
            "style": "IPY_MODEL_7bc76677075c40818841b005e5467c33",
            "value": " 638M/638M [00:16&lt;00:00, 41.5MB/s]"
          }
        },
        "25c3d5eb60a54846a8f3648734378713": {
          "model_module": "@jupyter-widgets/base",
          "model_name": "LayoutModel",
          "model_module_version": "1.2.0",
          "state": {
            "_model_module": "@jupyter-widgets/base",
            "_model_module_version": "1.2.0",
            "_model_name": "LayoutModel",
            "_view_count": null,
            "_view_module": "@jupyter-widgets/base",
            "_view_module_version": "1.2.0",
            "_view_name": "LayoutView",
            "align_content": null,
            "align_items": null,
            "align_self": null,
            "border": null,
            "bottom": null,
            "display": null,
            "flex": null,
            "flex_flow": null,
            "grid_area": null,
            "grid_auto_columns": null,
            "grid_auto_flow": null,
            "grid_auto_rows": null,
            "grid_column": null,
            "grid_gap": null,
            "grid_row": null,
            "grid_template_areas": null,
            "grid_template_columns": null,
            "grid_template_rows": null,
            "height": null,
            "justify_content": null,
            "justify_items": null,
            "left": null,
            "margin": null,
            "max_height": null,
            "max_width": null,
            "min_height": null,
            "min_width": null,
            "object_fit": null,
            "object_position": null,
            "order": null,
            "overflow": null,
            "overflow_x": null,
            "overflow_y": null,
            "padding": null,
            "right": null,
            "top": null,
            "visibility": null,
            "width": null
          }
        },
        "4338e78591454970b17b5f1b0d51d8e6": {
          "model_module": "@jupyter-widgets/base",
          "model_name": "LayoutModel",
          "model_module_version": "1.2.0",
          "state": {
            "_model_module": "@jupyter-widgets/base",
            "_model_module_version": "1.2.0",
            "_model_name": "LayoutModel",
            "_view_count": null,
            "_view_module": "@jupyter-widgets/base",
            "_view_module_version": "1.2.0",
            "_view_name": "LayoutView",
            "align_content": null,
            "align_items": null,
            "align_self": null,
            "border": null,
            "bottom": null,
            "display": null,
            "flex": null,
            "flex_flow": null,
            "grid_area": null,
            "grid_auto_columns": null,
            "grid_auto_flow": null,
            "grid_auto_rows": null,
            "grid_column": null,
            "grid_gap": null,
            "grid_row": null,
            "grid_template_areas": null,
            "grid_template_columns": null,
            "grid_template_rows": null,
            "height": null,
            "justify_content": null,
            "justify_items": null,
            "left": null,
            "margin": null,
            "max_height": null,
            "max_width": null,
            "min_height": null,
            "min_width": null,
            "object_fit": null,
            "object_position": null,
            "order": null,
            "overflow": null,
            "overflow_x": null,
            "overflow_y": null,
            "padding": null,
            "right": null,
            "top": null,
            "visibility": null,
            "width": null
          }
        },
        "2364047d09214ee38dbf13cea86c211d": {
          "model_module": "@jupyter-widgets/controls",
          "model_name": "DescriptionStyleModel",
          "model_module_version": "1.5.0",
          "state": {
            "_model_module": "@jupyter-widgets/controls",
            "_model_module_version": "1.5.0",
            "_model_name": "DescriptionStyleModel",
            "_view_count": null,
            "_view_module": "@jupyter-widgets/base",
            "_view_module_version": "1.2.0",
            "_view_name": "StyleView",
            "description_width": ""
          }
        },
        "6b3526ebf6ad41009e97b90530555432": {
          "model_module": "@jupyter-widgets/base",
          "model_name": "LayoutModel",
          "model_module_version": "1.2.0",
          "state": {
            "_model_module": "@jupyter-widgets/base",
            "_model_module_version": "1.2.0",
            "_model_name": "LayoutModel",
            "_view_count": null,
            "_view_module": "@jupyter-widgets/base",
            "_view_module_version": "1.2.0",
            "_view_name": "LayoutView",
            "align_content": null,
            "align_items": null,
            "align_self": null,
            "border": null,
            "bottom": null,
            "display": null,
            "flex": null,
            "flex_flow": null,
            "grid_area": null,
            "grid_auto_columns": null,
            "grid_auto_flow": null,
            "grid_auto_rows": null,
            "grid_column": null,
            "grid_gap": null,
            "grid_row": null,
            "grid_template_areas": null,
            "grid_template_columns": null,
            "grid_template_rows": null,
            "height": null,
            "justify_content": null,
            "justify_items": null,
            "left": null,
            "margin": null,
            "max_height": null,
            "max_width": null,
            "min_height": null,
            "min_width": null,
            "object_fit": null,
            "object_position": null,
            "order": null,
            "overflow": null,
            "overflow_x": null,
            "overflow_y": null,
            "padding": null,
            "right": null,
            "top": null,
            "visibility": null,
            "width": null
          }
        },
        "759a41f6dbb24a8c98012475893ab912": {
          "model_module": "@jupyter-widgets/controls",
          "model_name": "ProgressStyleModel",
          "model_module_version": "1.5.0",
          "state": {
            "_model_module": "@jupyter-widgets/controls",
            "_model_module_version": "1.5.0",
            "_model_name": "ProgressStyleModel",
            "_view_count": null,
            "_view_module": "@jupyter-widgets/base",
            "_view_module_version": "1.2.0",
            "_view_name": "StyleView",
            "bar_color": null,
            "description_width": ""
          }
        },
        "207c5112fdab4b9085ea884c10e97d59": {
          "model_module": "@jupyter-widgets/base",
          "model_name": "LayoutModel",
          "model_module_version": "1.2.0",
          "state": {
            "_model_module": "@jupyter-widgets/base",
            "_model_module_version": "1.2.0",
            "_model_name": "LayoutModel",
            "_view_count": null,
            "_view_module": "@jupyter-widgets/base",
            "_view_module_version": "1.2.0",
            "_view_name": "LayoutView",
            "align_content": null,
            "align_items": null,
            "align_self": null,
            "border": null,
            "bottom": null,
            "display": null,
            "flex": null,
            "flex_flow": null,
            "grid_area": null,
            "grid_auto_columns": null,
            "grid_auto_flow": null,
            "grid_auto_rows": null,
            "grid_column": null,
            "grid_gap": null,
            "grid_row": null,
            "grid_template_areas": null,
            "grid_template_columns": null,
            "grid_template_rows": null,
            "height": null,
            "justify_content": null,
            "justify_items": null,
            "left": null,
            "margin": null,
            "max_height": null,
            "max_width": null,
            "min_height": null,
            "min_width": null,
            "object_fit": null,
            "object_position": null,
            "order": null,
            "overflow": null,
            "overflow_x": null,
            "overflow_y": null,
            "padding": null,
            "right": null,
            "top": null,
            "visibility": null,
            "width": null
          }
        },
        "7bc76677075c40818841b005e5467c33": {
          "model_module": "@jupyter-widgets/controls",
          "model_name": "DescriptionStyleModel",
          "model_module_version": "1.5.0",
          "state": {
            "_model_module": "@jupyter-widgets/controls",
            "_model_module_version": "1.5.0",
            "_model_name": "DescriptionStyleModel",
            "_view_count": null,
            "_view_module": "@jupyter-widgets/base",
            "_view_module_version": "1.2.0",
            "_view_name": "StyleView",
            "description_width": ""
          }
        }
      }
    }
  },
  "cells": [
    {
      "cell_type": "markdown",
      "metadata": {
        "id": "view-in-github",
        "colab_type": "text"
      },
      "source": [
        "<a href=\"https://colab.research.google.com/github/santiagxf/interpret/blob/main/saliency-maps/loading_transformers_allennlp.ipynb\" target=\"_parent\"><img src=\"https://colab.research.google.com/assets/colab-badge.svg\" alt=\"Open In Colab\"/></a>"
      ]
    },
    {
      "cell_type": "markdown",
      "source": [
        "# Loading a HuggingFace model into AllenNLP"
      ],
      "metadata": {
        "id": "Lf_HquFtLK_i"
      }
    },
    {
      "cell_type": "code",
      "source": [
        "%pip install transformers allennlp eli5 --quiet\n",
        "%pip install -U google-cloud-storage==1.40.0 --quiet"
      ],
      "metadata": {
        "id": "ddSalTymLIHQ"
      },
      "execution_count": 111,
      "outputs": []
    },
    {
      "cell_type": "markdown",
      "source": [
        "In this case we will use `nlptown/bert-base-multilingual-uncased-sentiment`. This is a bert-base-multilingual-uncased model finetuned for sentiment analysis on product reviews in six languages: English, Dutch, German, French, Spanish and Italian. It predicts the sentiment of the review as a number of stars (between 1 and 5).\n",
        "\n",
        "The model can be used directly as a sentiment analysis model for product reviews in any of the six languages, or further finetuned on related sentiment analysis tasks. To keep the example small, we won't do any fine-tuning with our own data in this opportunity."
      ],
      "metadata": {
        "id": "JPpk7DelMLNT"
      }
    },
    {
      "cell_type": "markdown",
      "source": [
        "## Loading the model with transformers"
      ],
      "metadata": {
        "id": "OjMhg9OAMZC4"
      }
    },
    {
      "cell_type": "code",
      "source": [
        "from transformers.models.auto import AutoConfig, AutoModelForSequenceClassification\n",
        "from transformers.models.auto.tokenization_auto import AutoTokenizer\n",
        "\n",
        "model_uri = 'nlptown/bert-base-multilingual-uncased-sentiment'\n",
        "\n",
        "config = AutoConfig.from_pretrained(model_uri)\n",
        "tokenizer = AutoTokenizer.from_pretrained(model_uri)\n",
        "classifier = AutoModelForSequenceClassification.from_pretrained(model_uri, config=config)"
      ],
      "metadata": {
        "id": "9rZPxTeUMNpS",
        "outputId": "59acaf2c-f86e-47c2-886c-6b0814a5d5c2",
        "colab": {
          "base_uri": "https://localhost:8080/",
          "height": 177,
          "referenced_widgets": [
            "003f88678761453fb296ec3a2fa016bc",
            "50aeb46920574e629cd6c8417355d377",
            "2cf9b8fd322344598961b9d73d3d057d",
            "4f3b3735598c4ccaac1994d9e0f0b236",
            "d98a024757e14509b5e39bfc9f85b908",
            "4c5018aa286a422993a2011e7bc3b2d6",
            "01b8878bd71941e4bc9e917e4ef534da",
            "ab76e5daa27d402d84d3b51e101ae83a",
            "d4f1744f3e714ea7846bef2d7b618284",
            "508d3f9248874a6ba90a4f1814a6db73",
            "0789336786a04b19b277a95f497a3722",
            "b1769e2357a8449fbbf0b49f3088c3e4",
            "a27c4eca4dd5461e98a4b8228c4913ee",
            "6b32fca55f674ed8918e68872ad3b36f",
            "2c805a6860264d1babb027029c0c8fa6",
            "fad46b699c7745a69978a89ef533e648",
            "d51f21a608e34b56becbacbae66ae4ca",
            "7ccc29cb7e8a43e4bc314c6315d1c89b",
            "a0437e4680c44a91985b7facd38ef5ca",
            "fba4a3bfbd7b4951a6f0af409a4c71ab",
            "1f173e6102ab404187b6f754a0ec1af0",
            "4f068a84a2d449fd91b27b69ed9724a9",
            "6e3fe1f22ae042fd96b402d39526b117",
            "841be5a512ef4f9293a467d5ca7af447",
            "36f8a2b8cf3a499caff0e5033f482b82",
            "8e5a2ccaf1a549108a84ac6867597782",
            "1d7ad3758d224beaa9f3710cd9d717e3",
            "c372d002b7444be5987f2296def2caa8",
            "08c3efb53c3a497d8cc2e2c0d5578bb8",
            "bfcb83ba52a24ec68ea458315b1ed143",
            "79042a542cca43ebb0afc9e3a64ddf87",
            "549134fb31bf4f138cda41b785869809",
            "1f55d4dab3be4bed987b7db8832fd57f",
            "df71a06e209448648d99aabb564d0870",
            "094421b563344ea58fcedc6923539d6a",
            "c179868ffb2c4549a75ee46d71618850",
            "21f7803053554077a20895681879736c",
            "18f3125c276f47baa6acfd08843c4b60",
            "905de7cdf8ab44ef93b2b446e84192d7",
            "f9bc0871cb264fc792d74e3ca04bb736",
            "645d70b46faa493b91c0f67592de85fe",
            "4cdfff865717494daf2efbb41b3e7746",
            "24ac77e2167146c09292e1e7d5d27353",
            "6cd6b124bdb2434cb6eb464d76f08214",
            "4366cc9f705c4c188a4dedca2dfd50eb",
            "fe0c2db7b5174d3daaae3c004383e97b",
            "88b61580da204faa80ed59a7f7a4e0f6",
            "d49ed39d1a144f50b4fcef3f98d34b3b",
            "25c3d5eb60a54846a8f3648734378713",
            "4338e78591454970b17b5f1b0d51d8e6",
            "2364047d09214ee38dbf13cea86c211d",
            "6b3526ebf6ad41009e97b90530555432",
            "759a41f6dbb24a8c98012475893ab912",
            "207c5112fdab4b9085ea884c10e97d59",
            "7bc76677075c40818841b005e5467c33"
          ]
        }
      },
      "execution_count": 1,
      "outputs": [
        {
          "output_type": "display_data",
          "data": {
            "text/plain": [
              "Downloading:   0%|          | 0.00/953 [00:00<?, ?B/s]"
            ],
            "application/vnd.jupyter.widget-view+json": {
              "version_major": 2,
              "version_minor": 0,
              "model_id": "003f88678761453fb296ec3a2fa016bc"
            }
          },
          "metadata": {}
        },
        {
          "output_type": "display_data",
          "data": {
            "text/plain": [
              "Downloading:   0%|          | 0.00/39.0 [00:00<?, ?B/s]"
            ],
            "application/vnd.jupyter.widget-view+json": {
              "version_major": 2,
              "version_minor": 0,
              "model_id": "b1769e2357a8449fbbf0b49f3088c3e4"
            }
          },
          "metadata": {}
        },
        {
          "output_type": "display_data",
          "data": {
            "text/plain": [
              "Downloading:   0%|          | 0.00/851k [00:00<?, ?B/s]"
            ],
            "application/vnd.jupyter.widget-view+json": {
              "version_major": 2,
              "version_minor": 0,
              "model_id": "6e3fe1f22ae042fd96b402d39526b117"
            }
          },
          "metadata": {}
        },
        {
          "output_type": "display_data",
          "data": {
            "text/plain": [
              "Downloading:   0%|          | 0.00/112 [00:00<?, ?B/s]"
            ],
            "application/vnd.jupyter.widget-view+json": {
              "version_major": 2,
              "version_minor": 0,
              "model_id": "df71a06e209448648d99aabb564d0870"
            }
          },
          "metadata": {}
        },
        {
          "output_type": "display_data",
          "data": {
            "text/plain": [
              "Downloading:   0%|          | 0.00/638M [00:00<?, ?B/s]"
            ],
            "application/vnd.jupyter.widget-view+json": {
              "version_major": 2,
              "version_minor": 0,
              "model_id": "4366cc9f705c4c188a4dedca2dfd50eb"
            }
          },
          "metadata": {}
        }
      ]
    },
    {
      "cell_type": "markdown",
      "source": [
        "The transformers library provides a convenient way to store all the artifacts of a given model, and that is using the functionsave_pretrained from the model."
      ],
      "metadata": {
        "id": "pIdqiKYeMtEJ"
      }
    },
    {
      "cell_type": "code",
      "source": [
        "model_path = 'rating_classifier'\n",
        "model_name = 'rating_classifier'\n",
        "classifier.save_pretrained(model_path)"
      ],
      "metadata": {
        "id": "3H_7URIZMrwR"
      },
      "execution_count": 2,
      "outputs": []
    },
    {
      "cell_type": "markdown",
      "source": [
        "This will generate a single file called pytorch_model.bin which contains the weights of the model itself. However, remember that in order to run the model we also need it's corresponding tokenizer. The same save_pretrained method is available for the tokenizer, which will generate other set of files:"
      ],
      "metadata": {
        "id": "ZgYa-_aEMz4Q"
      }
    },
    {
      "cell_type": "code",
      "source": [
        "tokenizer.save_pretrained(model_path)"
      ],
      "metadata": {
        "colab": {
          "base_uri": "https://localhost:8080/"
        },
        "id": "-l9J2S5gMxUz",
        "outputId": "15a5ca0b-d5de-4c37-bed1-e44476f84f46"
      },
      "execution_count": 3,
      "outputs": [
        {
          "output_type": "execute_result",
          "data": {
            "text/plain": [
              "('rating_classifier/tokenizer_config.json',\n",
              " 'rating_classifier/special_tokens_map.json',\n",
              " 'rating_classifier/vocab.txt',\n",
              " 'rating_classifier/added_tokens.json',\n",
              " 'rating_classifier/tokenizer.json')"
            ]
          },
          "metadata": {},
          "execution_count": 3
        }
      ]
    },
    {
      "cell_type": "markdown",
      "source": [
        "## Loading the saved model using AllenNLP"
      ],
      "metadata": {
        "id": "m2HFRKFRM4GW"
      }
    },
    {
      "cell_type": "markdown",
      "source": [
        "### Vocabulary\n",
        "\n",
        "As with any other framework, a vocabulary in AllenNLP maps strings to integers. They are fit to a particular dataset, which is used to decide which tokens are in-vocabulary. Any token that is outside of the vocabulary is mapped to a particular token called out-of-vocabulary.\n",
        "An important distinction is that in AllenNLP, vocabularies can have different namespaces so you can have separate indices for the same token. For instance, you can have one vocabulary for your words as inputs and another one for your words as outputs (in a text generation setting for instance)."
      ],
      "metadata": {
        "id": "Sp9-h_tJN1dx"
      }
    },
    {
      "cell_type": "code",
      "source": [
        "from allennlp.data.vocabulary import Vocabulary\n",
        "\n",
        "transformer_vocab = Vocabulary.from_pretrained_transformer(model_name)"
      ],
      "metadata": {
        "id": "PyRiNiAZNCsq"
      },
      "execution_count": 4,
      "outputs": []
    },
    {
      "cell_type": "markdown",
      "source": [
        "### Tokenizer\n",
        "\n",
        "The tokenization work is divided into 2 parts in AllenNLP, which allows having a more modular approach:\n",
        " \n",
        " - Tokenizer: A Tokenizer splits chunks of text into tokens. Typically, this either splits text into word tokens or character tokens. Its job is to split sequences of text into sequences of discreet words or tokens. It goes from text into sequences of text.\n",
        " - Indexer: its job is to take a sequence of tokens and translate them into word indexes in according to the vocabulary. It goes from sequences of text into sequences of indexes in the vocabulary.\n"
      ],
      "metadata": {
        "id": "pPV85OLkNh8S"
      }
    },
    {
      "cell_type": "code",
      "source": [
        "from allennlp.data.tokenizers.pretrained_transformer_tokenizer import PretrainedTransformerTokenizer\n",
        "from allennlp.data.token_indexers.pretrained_transformer_indexer import PretrainedTransformerIndexer\n",
        "\n",
        "transformer_tokenizer = PretrainedTransformerTokenizer(model_name)\n",
        "token_indexer = PretrainedTransformerIndexer(model_name)\n"
      ],
      "metadata": {
        "id": "xeDalMC6OA_k"
      },
      "execution_count": 5,
      "outputs": []
    },
    {
      "cell_type": "markdown",
      "source": [
        "### Embedder\n",
        "\n",
        "The embedder's job is to provide vectors for each word index. Most NLP models utilize this kind of dense representation instead of indices. It basically takes a word's index and returns its vector representation.\n",
        "AllenNLP supports providing multiple embedders for the same or different inputs. In our case, we are going to provide embeddings for inputs provided in a field called \"tokens\"."
      ],
      "metadata": {
        "id": "B-6SpGCeN76L"
      }
    },
    {
      "cell_type": "code",
      "source": [
        "from allennlp.modules.text_field_embedders import BasicTextFieldEmbedder\n",
        "from allennlp.modules.token_embedders.pretrained_transformer_embedder import PretrainedTransformerEmbedder"
      ],
      "metadata": {
        "id": "7fJI6xs-TuRp"
      },
      "execution_count": 6,
      "outputs": []
    },
    {
      "cell_type": "code",
      "source": [
        "token_embedder = BasicTextFieldEmbedder({ \"tokens\": PretrainedTransformerEmbedder(model_name) })"
      ],
      "metadata": {
        "id": "o65Y2dgwWKQv",
        "outputId": "4b7ec160-31f1-4250-c6e3-d787f865542f",
        "colab": {
          "base_uri": "https://localhost:8080/"
        }
      },
      "execution_count": 7,
      "outputs": [
        {
          "output_type": "stream",
          "name": "stderr",
          "text": [
            "Some weights of the model checkpoint at rating_classifier were not used when initializing BertModel: ['classifier.bias', 'classifier.weight']\n",
            "- This IS expected if you are initializing BertModel from the checkpoint of a model trained on another task or with another architecture (e.g. initializing a BertForSequenceClassification model from a BertForPreTraining model).\n",
            "- This IS NOT expected if you are initializing BertModel from the checkpoint of a model that you expect to be exactly identical (initializing a BertForSequenceClassification model from a BertForSequenceClassification model).\n"
          ]
        }
      ]
    },
    {
      "cell_type": "markdown",
      "source": [
        "> Note that AllenNLP support providing multiple embedders for different inputs. This is because it has this modular approach"
      ],
      "metadata": {
        "id": "aTrGfrfSeAIG"
      }
    },
    {
      "cell_type": "markdown",
      "source": [
        "A `Seq2VecEncoder` is a Module that takes as input a sequence of vectors and returns a single vector. The input shape would be `(batch_size, sequence_length, input_dim)` and return a `(batch_size, output_dim)` tensor. In the BERT architecture, there is a pooling layer at the end of the BERT model. This returns an embedding for the [CLS] token, after passing it through a non-linear tanh activation; the non-linear layer is also part of the BERT model.\n",
        "\n",
        "We can create it in AllenNLP:"
      ],
      "metadata": {
        "id": "CeH5yBDdRj2j"
      }
    },
    {
      "cell_type": "code",
      "source": [
        "from allennlp.modules.seq2vec_encoders.bert_pooler import BertPooler\n",
        "\n",
        "transformer_encoder = BertPooler(model_name)"
      ],
      "metadata": {
        "id": "-z7M1K5LRMNR"
      },
      "execution_count": 8,
      "outputs": []
    },
    {
      "cell_type": "markdown",
      "source": [
        "### Building the model"
      ],
      "metadata": {
        "id": "5pBqTastOMRq"
      }
    },
    {
      "cell_type": "code",
      "source": [
        "from allennlp.models import BasicClassifier\n",
        "\n",
        "model = BasicClassifier(vocab=transformer_vocab, \n",
        "                        text_field_embedder=token_embedder, \n",
        "                        seq2vec_encoder=transformer_encoder, \n",
        "                        dropout=0.1, \n",
        "                        num_labels=5)"
      ],
      "metadata": {
        "id": "W4AVLaTiN-T6"
      },
      "execution_count": 68,
      "outputs": []
    },
    {
      "cell_type": "markdown",
      "source": [
        "Loading the model's weights"
      ],
      "metadata": {
        "id": "y4Ixrzl5OceX"
      }
    },
    {
      "cell_type": "code",
      "source": [
        "model._classification_layer.weight = classifier.classifier.weight\n",
        "model._classification_layer.bias = classifier.classifier.bias"
      ],
      "metadata": {
        "id": "Nc8qrMwIObnW"
      },
      "execution_count": 69,
      "outputs": []
    },
    {
      "cell_type": "code",
      "source": [
        "_ = model.eval()"
      ],
      "metadata": {
        "id": "kNfeM7ptOr26"
      },
      "execution_count": 70,
      "outputs": []
    },
    {
      "cell_type": "markdown",
      "source": [
        "## Data readers\n",
        "\n",
        "AllenNLP uses the concept of DatasetReader which allows the creation of `Instance`'s which can provide the inputs in the format the model expects them. This abstraction allows the framwork to make any preprocessing needed before the data is actually sent to the model. "
      ],
      "metadata": {
        "id": "2v8m-77xOvTt"
      }
    },
    {
      "cell_type": "code",
      "source": [
        "from allennlp.data.dataset_readers import TextClassificationJsonReader\n",
        "\n",
        "dataset_reader = TextClassificationJsonReader(token_indexers={ \"tokens\": token_indexer },\n",
        "                                              tokenizer=transformer_tokenizer,\n",
        "                                              max_sequence_length=400)\n"
      ],
      "metadata": {
        "id": "z8rb9EptETSZ"
      },
      "execution_count": 77,
      "outputs": []
    },
    {
      "cell_type": "markdown",
      "source": [
        "Testing if the reader works:"
      ],
      "metadata": {
        "id": "tve7x4u8Pr5V"
      }
    },
    {
      "cell_type": "code",
      "source": [
        "instance = dataset_reader.text_to_instance(\"this is a great read everyone should have\")\n",
        "dataset_reader.apply_token_indexers(instance)"
      ],
      "metadata": {
        "id": "LjM3ZikBPrgI"
      },
      "execution_count": 80,
      "outputs": []
    },
    {
      "cell_type": "code",
      "source": [
        "from allennlp.nn import util\n",
        "from allennlp.data import Batch, Instance\n",
        "\n",
        "dataset = Batch([instance])\n",
        "dataset.index_instances(transformer_vocab)\n",
        "model_input = util.move_to_device(dataset.as_tensor_dict(), model._get_prediction_device())"
      ],
      "metadata": {
        "id": "cDTaos_DXdaU"
      },
      "execution_count": 112,
      "outputs": []
    },
    {
      "cell_type": "code",
      "source": [
        "model.make_output_human_readable(model(**model_input))"
      ],
      "metadata": {
        "colab": {
          "base_uri": "https://localhost:8080/"
        },
        "id": "6CK0EdqLXh-3",
        "outputId": "9faa7d56-ed88-440e-b134-ae909404d968"
      },
      "execution_count": 113,
      "outputs": [
        {
          "output_type": "execute_result",
          "data": {
            "text/plain": [
              "{'label': ['4'],\n",
              " 'logits': tensor([[-2.3093, -2.4158, -0.5280,  1.7162,  2.7962]],\n",
              "        grad_fn=<AddmmBackward0>),\n",
              " 'probs': tensor([[0.0044, 0.0039, 0.0260, 0.2448, 0.7209]], grad_fn=<SoftmaxBackward0>),\n",
              " 'token_ids': tensor([[  101, 10372, 10127,   143, 11838, 18593, 36053, 14693, 10574,   102]]),\n",
              " 'tokens': [['[CLS]',\n",
              "   'this',\n",
              "   'is',\n",
              "   'a',\n",
              "   'great',\n",
              "   'read',\n",
              "   'everyone',\n",
              "   'should',\n",
              "   'have',\n",
              "   '[SEP]']]}"
            ]
          },
          "metadata": {},
          "execution_count": 113
        }
      ]
    },
    {
      "cell_type": "markdown",
      "source": [
        "## Making the tokenizer and the model a single piece"
      ],
      "metadata": {
        "id": "ZgInyOHkP6ml"
      }
    },
    {
      "cell_type": "code",
      "source": [
        "from allennlp.predictors import TextClassifierPredictor\n",
        "\n",
        "predictor = TextClassifierPredictor(model, dataset_reader)"
      ],
      "metadata": {
        "id": "VzY95panQB7E"
      },
      "execution_count": null,
      "outputs": []
    },
    {
      "cell_type": "code",
      "source": [
        "predictor.predict(\"this is a great read everyone should have\")"
      ],
      "metadata": {
        "colab": {
          "base_uri": "https://localhost:8080/"
        },
        "id": "BiPCscELXPra",
        "outputId": "b8e5df34-181c-45dc-c0ff-2249c69e7e24"
      },
      "execution_count": 108,
      "outputs": [
        {
          "output_type": "execute_result",
          "data": {
            "text/plain": [
              "{'label': '3',\n",
              " 'logits': [-0.03681138902902603,\n",
              "  0.12418578565120697,\n",
              "  -0.22534894943237305,\n",
              "  0.4560336172580719,\n",
              "  0.14134210348129272],\n",
              " 'probs': [0.17138470709323883,\n",
              "  0.20132245123386383,\n",
              "  0.1419355571269989,\n",
              "  0.2805510461330414,\n",
              "  0.20480619370937347],\n",
              " 'token_ids': [101, 10372, 10127, 143, 11838, 18593, 36053, 14693, 10574, 102],\n",
              " 'tokens': ['[CLS]',\n",
              "  'this',\n",
              "  'is',\n",
              "  'a',\n",
              "  'great',\n",
              "  'read',\n",
              "  'everyone',\n",
              "  'should',\n",
              "  'have',\n",
              "  '[SEP]']}"
            ]
          },
          "metadata": {},
          "execution_count": 108
        }
      ]
    },
    {
      "cell_type": "markdown",
      "source": [
        "# Using JSONNET\n",
        "\n",
        "AllenNLP allows a declarative way of loading models. The entire architecture can be specified using the language JSONNET. This allows even faster iteration for trying new combination of different architectures as it only takes changing the relevant part in the declarative JSON.\n",
        "The following JSONNET (which is indicated using the type Params but you can do exactly the same saving the json structure in a JSONNET file) is the very same equivalent to the model we used before."
      ],
      "metadata": {
        "id": "r0SiztI5Qurz"
      }
    },
    {
      "cell_type": "code",
      "source": [
        "from allennlp.common import Params\n",
        "from allennlp.data.dataset_readers import DatasetReader\n",
        "\n",
        "params = Params({\n",
        "      \"type\": \"text_classification_json\",\n",
        "      \"tokenizer\": {\n",
        "          \"type\": \"pretrained_transformer\",\n",
        "          \"model_name\": model_name,\n",
        "      },\n",
        "      \"token_indexers\": {\n",
        "          \"tokens\": {\n",
        "              \"type\": \"pretrained_transformer\",\n",
        "              \"model_name\": model_name,\n",
        "          }\n",
        "      }\n",
        "})\n",
        "\n",
        "dataset_reader = DatasetReader.from_params(params)"
      ],
      "metadata": {
        "id": "PMjTs1uoQDVy"
      },
      "execution_count": 123,
      "outputs": []
    },
    {
      "cell_type": "code",
      "source": [
        "from allennlp.common import Params\n",
        "from allennlp.models import Model\n",
        "\n",
        "params = Params({\n",
        "    \"type\": \"basic_classifier\",\n",
        "    \"vocab\": {\n",
        "        \"type\": \"from_pretrained_transformer\",\n",
        "        \"model_name\": model_name,\n",
        "    },\n",
        "    \"text_field_embedder\": {\n",
        "        \"type\": \"basic\",\n",
        "        \"token_embedders\": {\n",
        "            \"tokens\": {\n",
        "                \"type\": \"pretrained_transformer\",\n",
        "                \"model_name\": model_name\n",
        "            }\n",
        "        }\n",
        "    },\n",
        "    \"seq2vec_encoder\": {\n",
        "        \"type\": \"bert_pooler\",\n",
        "        \"pretrained_model\": model_name\n",
        "    },\n",
        "    \"dropout\": 0.1,\n",
        "    \"num_labels\": 5,\n",
        "});\n",
        "\n",
        "model = Model.from_params(params)\n",
        "model._classification_layer.weight = classifier.classifier.weight\n",
        "model._classification_layer.bias = classifier.classifier.bias\n",
        "model.eval()"
      ],
      "metadata": {
        "id": "bXQkKoaLXSaB"
      },
      "execution_count": 124,
      "outputs": []
    },
    {
      "cell_type": "code",
      "source": [
        "predictor = TextClassifierPredictor(model, dataset_reader)"
      ],
      "metadata": {
        "id": "icOnKAvnPvMO"
      },
      "execution_count": null,
      "outputs": []
    },
    {
      "cell_type": "markdown",
      "source": [
        "If you don't want to load the weights of the model, then you can:"
      ],
      "metadata": {
        "id": "B2c2uxPXQ6SK"
      }
    },
    {
      "cell_type": "code",
      "source": [
        "from allennlp.common import params\n",
        "from allennlp.predictors import Predictor\n",
        "\n",
        "params = Params({\n",
        "    \"type\": \"text_classifier\",\n",
        "    \"dataset_reader\": {\n",
        "        \"type\": \"text_classification_json\",\n",
        "        \"tokenizer\": {\n",
        "            \"type\": \"pretrained_transformer\",\n",
        "            \"model_name\": model_name,\n",
        "        },\n",
        "        \"token_indexers\": {\n",
        "            \"tokens\": {\n",
        "                \"type\": \"pretrained_transformer\",\n",
        "                \"model_name\": model_name,\n",
        "            }\n",
        "        }\n",
        "    },\n",
        "    \"model\": {\n",
        "        \"type\": \"basic_classifier\",\n",
        "        \"vocab\": {\n",
        "            \"type\": \"from_pretrained_transformer\",\n",
        "            \"model_name\": model_name,\n",
        "        },\n",
        "        \"text_field_embedder\": {\n",
        "            \"type\": \"basic\",\n",
        "            \"token_embedders\": {\n",
        "                \"tokens\": {\n",
        "                    \"type\": \"pretrained_transformer\",\n",
        "                    \"model_name\": model_name\n",
        "                }\n",
        "            }\n",
        "        },\n",
        "        \"seq2vec_encoder\": {\n",
        "            \"type\": \"bert_pooler\",\n",
        "            \"pretrained_model\": model_name\n",
        "        },\n",
        "        \"dropout\": 0.1,\n",
        "        \"num_labels\": 5,\n",
        "    }\n",
        "})\n",
        "\n",
        "predictor = Predictor.from_params(params)"
      ],
      "metadata": {
        "id": "GxCPhLYAQ-5U"
      },
      "execution_count": 129,
      "outputs": []
    }
  ]
}